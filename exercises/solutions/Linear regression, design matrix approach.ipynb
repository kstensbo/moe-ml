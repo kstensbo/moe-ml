{
 "cells": [
  {
   "cell_type": "code",
   "execution_count": null,
   "metadata": {
    "collapsed": true
   },
   "outputs": [],
   "source": [
    "import numpy as np\n",
    "import matplotlib.pyplot as plt\n",
    "%matplotlib notebook"
   ]
  },
  {
   "cell_type": "markdown",
   "metadata": {},
   "source": [
    "# Linear regression\n",
    "\n",
    "## Design matrix approach\n",
    "\n",
    "Gradient descent is a general framework for optimising functions. However, we can solve any linear regression problem in a much faster and more elegant way using a design matrix.\n",
    "\n",
    "Define the *design matrix* as:\n",
    "$$\n",
    "\\Phi = \\begin{bmatrix}\n",
    "\\phi_1(x_1) & \\phi_2(x_1) & \\dots & \\phi_M(x_1)\\\\\n",
    "\\phi_1(x_2) & \\phi_2(x_2) & \\dots & \\phi_M(x_2)\\\\\n",
    "\\vdots & \\vdots & \\ddots & \\vdots \\\\\n",
    "\\phi_1(x_N) & \\phi_2(x_N) & \\dots & \\phi_M(x_N)\\\\\n",
    "\\end{bmatrix}\n",
    "$$\n",
    "where $\\phi_i(x_j)$ is the output of the $i$th feature at the $j$th input.\n",
    "\n",
    "The optimal weights can now be found as\n",
    "$$\n",
    "\\textbf{w}^* = (\\Phi^\\top\\Phi)^{-1} \\Phi^\\top \\textbf{y},\n",
    "$$\n",
    "where $\\textbf{y}$ is a vector of all outputs. \n",
    "\n",
    "## Exercise\n",
    "\n",
    "Implement the solution to the linear regresssion problem using the above formula. Test it on the data in `ex1.dat`, `ex2.dat`, and `ex3.dat`.\n"
   ]
  },
  {
   "cell_type": "markdown",
   "metadata": {},
   "source": [
    "# Example solution\n",
    "\n",
    "## Data\n",
    "\n",
    "Load data from exercise 3."
   ]
  },
  {
   "cell_type": "code",
   "execution_count": null,
   "metadata": {
    "collapsed": true
   },
   "outputs": [],
   "source": [
    "data = np.loadtxt(\"../data/ex3.dat\")\n",
    "X = data[:, 0]\n",
    "y = data[:, 1]"
   ]
  },
  {
   "cell_type": "code",
   "execution_count": null,
   "metadata": {},
   "outputs": [],
   "source": [
    "fig, ax = plt.subplots()\n",
    "ax.scatter(X, y)\n",
    "plt.show()"
   ]
  },
  {
   "cell_type": "markdown",
   "metadata": {},
   "source": [
    "## Solving the linear regression problem\n",
    "\n",
    "Define feature vector $\\phi$:"
   ]
  },
  {
   "cell_type": "code",
   "execution_count": null,
   "metadata": {
    "collapsed": true
   },
   "outputs": [],
   "source": [
    "def phi(x):\n",
    "    return np.array([np.ones_like(x), x, x**2, np.sin(x)])"
   ]
  },
  {
   "cell_type": "markdown",
   "metadata": {},
   "source": [
    "Define the design matrix $\\Phi$:"
   ]
  },
  {
   "cell_type": "code",
   "execution_count": null,
   "metadata": {
    "collapsed": true
   },
   "outputs": [],
   "source": [
    "Phi = np.array(phi(X)).T"
   ]
  },
  {
   "cell_type": "markdown",
   "metadata": {},
   "source": [
    "Compute maximum likelihood solution for weights as $ \\mathbf{w} = (\\Phi^\\top\\Phi)^{-1} \\Phi^\\top \\mathbf{y} $"
   ]
  },
  {
   "cell_type": "code",
   "execution_count": null,
   "metadata": {
    "scrolled": false
   },
   "outputs": [],
   "source": [
    "w = np.linalg.inv(Phi.T.dot(Phi)).dot(Phi.T).dot(y)\n",
    "print(w)"
   ]
  },
  {
   "cell_type": "markdown",
   "metadata": {},
   "source": [
    "## Visualising the result"
   ]
  },
  {
   "cell_type": "code",
   "execution_count": null,
   "metadata": {},
   "outputs": [],
   "source": [
    "Xf = np.linspace(0,25,500)\n",
    "yf = np.array([np.sum(w*phi(xf)) for xf in Xf])\n",
    "\n",
    "fig, ax = plt.subplots()\n",
    "ax.scatter(X, y)\n",
    "ax.plot(Xf, yf, color=\"C1\")\n",
    "plt.show()"
   ]
  }
 ],
 "metadata": {
  "kernelspec": {
   "display_name": "Python 3",
   "language": "python",
   "name": "python3"
  },
  "language_info": {
   "codemirror_mode": {
    "name": "ipython",
    "version": 3
   },
   "file_extension": ".py",
   "mimetype": "text/x-python",
   "name": "python",
   "nbconvert_exporter": "python",
   "pygments_lexer": "ipython3",
   "version": "3.6.2"
  }
 },
 "nbformat": 4,
 "nbformat_minor": 2
}
