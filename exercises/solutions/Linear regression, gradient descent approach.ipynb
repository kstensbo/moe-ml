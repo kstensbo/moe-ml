{
 "cells": [
  {
   "cell_type": "code",
   "execution_count": null,
   "metadata": {
    "collapsed": true
   },
   "outputs": [],
   "source": [
    "import numpy as np\n",
    "import matplotlib.pyplot as plt\n",
    "%matplotlib notebook"
   ]
  },
  {
   "cell_type": "markdown",
   "metadata": {},
   "source": [
    "# Linear regression\n",
    "\n",
    "## Gradient descent approach\n",
    "\n",
    "Linear regression is the task of modelling data with a function of the form\n",
    "$$\n",
    "\\begin{align*}\n",
    "t &= w_1 \\phi_1(\\textbf{x}) + w_2 \\phi_2(\\textbf{x}) + \\dots + w_M \\phi_M(\\textbf{x}) \\\\\n",
    "&= \\sum_{i = 1}^M w_i \\phi_i(\\textbf{x}) \\\\\n",
    "&= \\textbf{w}^\\top \\boldsymbol{\\phi}(\\textbf{x}),\n",
    "\\end{align*}\n",
    "$$\n",
    "where $\\textbf{x}$ is an input, $\\boldsymbol{\\phi}(\\cdot)$ is the feature vector consisting of $M$ basis functions (think of them as feature transformations), and $\\textbf{w}$ is a vector of weights, i.e. parameters determining the behaviour of our model. Our goal is to learn the optimal weights, $\\textbf{w}^*$, such that our model captures the structure of the data.\n",
    "\n",
    "[Gradient descent](https://en.wikipedia.org/wiki/Gradient_descent) is a general framework for optimising functions. It works by iteratively adjusting the weights to approach a local minium of some loss function, L:\n",
    "$$\n",
    "\\textbf{w}^{i+1} = \\textbf{w} - \\eta \\nabla L(\\textbf{w}),\n",
    "$$\n",
    "where $\\eta$ is the learning rate or step size.\n",
    "\n",
    "\n",
    "\n",
    "## Exercise\n",
    "\n",
    "Implement the solution to the linear regresssion problem using gradient descent. Use the mean squared error (MSE) loss function \n",
    "$$\n",
    "\\text{MSE} = \\frac{1}{2N} \\sum_{i=1}^N (t - y)^2.\n",
    "$$\n",
    "\n",
    "Test it on the data in `ex1.dat`, `ex2.dat`, and `ex3.dat`.\n"
   ]
  },
  {
   "cell_type": "markdown",
   "metadata": {},
   "source": [
    "# Example solution\n",
    "\n",
    "## Data\n",
    "\n",
    "Load data from exercise 1."
   ]
  },
  {
   "cell_type": "code",
   "execution_count": null,
   "metadata": {
    "collapsed": true
   },
   "outputs": [],
   "source": [
    "data = np.loadtxt(\"../data/ex1.dat\")\n",
    "X = data[:, 0]\n",
    "y = data[:, 1]"
   ]
  },
  {
   "cell_type": "code",
   "execution_count": null,
   "metadata": {
    "collapsed": true
   },
   "outputs": [],
   "source": [
    "fig, ax = plt.subplots()\n",
    "ax.scatter(X, y)\n",
    "plt.show()"
   ]
  },
  {
   "cell_type": "markdown",
   "metadata": {},
   "source": [
    "## Solving the linear regression problem\n",
    "\n",
    "Define feature vector $\\phi$:"
   ]
  },
  {
   "cell_type": "code",
   "execution_count": null,
   "metadata": {
    "collapsed": true
   },
   "outputs": [],
   "source": [
    "def basis_functions(x):\n",
    "    # The transpose is a convenience when passing all data points in one go\n",
    "    return np.array([np.ones_like(x), x]).T"
   ]
  },
  {
   "cell_type": "markdown",
   "metadata": {},
   "source": [
    "Define the MSE loss function and its derivative:"
   ]
  },
  {
   "cell_type": "code",
   "execution_count": null,
   "metadata": {
    "collapsed": true
   },
   "outputs": [],
   "source": [
    "def mse(t, y):\n",
    "    N = len(y)\n",
    "    return 1/(2*N) * np.sum((t - y)**2)\n",
    "\n",
    "def grad_mse(t, y):\n",
    "    N = len(y)\n",
    "    return 1/N * (t - y)"
   ]
  },
  {
   "cell_type": "markdown",
   "metadata": {},
   "source": [
    "Take $10^5$ steps towards the minimum error:"
   ]
  },
  {
   "cell_type": "code",
   "execution_count": null,
   "metadata": {
    "collapsed": true
   },
   "outputs": [],
   "source": [
    "phi = basis_functions(X)                       # Compute feature vectors\n",
    "w = 0.001 * np.random.randn(phi.shape[1])      # Initialise w to a small random value\n",
    "eta = 0.01                                     # Set step size (learning rate)\n",
    "\n",
    "for step in range(10**5):\n",
    "    idx = np.random.randint(0, len(X), 5)      # Select 5 random points (for robustness)\n",
    "    phi_r = phi[idx]\n",
    "    \n",
    "    t = np.sum(w * phi_r, axis=1)              # For each step, compute the predictions...\n",
    "    w = w - eta*np.mean(grad_mse(t, y[idx]))   # ... and update w using gradient descent. We take the \n",
    "                                               # mean gradient of the selected points for robustness.\n",
    "    \n",
    "print(\"Optimised w = {}\".format(w))"
   ]
  },
  {
   "cell_type": "markdown",
   "metadata": {},
   "source": [
    "## Visualising the result"
   ]
  },
  {
   "cell_type": "code",
   "execution_count": null,
   "metadata": {
    "collapsed": true
   },
   "outputs": [],
   "source": [
    "Xf = np.linspace(0,10,500)\n",
    "tf = np.sum(w * basis_functions(Xf), axis=1)\n",
    "\n",
    "fig, ax = plt.subplots()\n",
    "ax.scatter(X, y)\n",
    "ax.plot(Xf, tf, color=\"C1\")\n",
    "plt.show()"
   ]
  }
 ],
 "metadata": {
  "kernelspec": {
   "display_name": "Python 3",
   "language": "python",
   "name": "python3"
  },
  "language_info": {
   "codemirror_mode": {
    "name": "ipython",
    "version": 3
   },
   "file_extension": ".py",
   "mimetype": "text/x-python",
   "name": "python",
   "nbconvert_exporter": "python",
   "pygments_lexer": "ipython3",
   "version": "3.6.4"
  }
 },
 "nbformat": 4,
 "nbformat_minor": 2
}
